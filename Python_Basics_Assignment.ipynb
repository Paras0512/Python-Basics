{
  "nbformat": 4,
  "nbformat_minor": 0,
  "metadata": {
    "colab": {
      "provenance": []
    },
    "kernelspec": {
      "name": "python3",
      "display_name": "Python 3"
    },
    "language_info": {
      "name": "python"
    }
  },
  "cells": [
    {
      "cell_type": "code",
      "execution_count": null,
      "metadata": {
        "id": "Z-xunu1ayC0U"
      },
      "outputs": [],
      "source": []
    },
    {
      "cell_type": "markdown",
      "source": [
        "# Python Basics Questions"
      ],
      "metadata": {
        "id": "dYDSl2ZLygMj"
      }
    },
    {
      "cell_type": "code",
      "source": [],
      "metadata": {
        "id": "WnIP0rWIyt5B"
      },
      "execution_count": null,
      "outputs": []
    },
    {
      "cell_type": "markdown",
      "source": [
        "1. What is Python, and why is it popular?\n",
        "    - Python is a simple and powerful programming language used to create websites, apps, games, and more. It is easy to learn because its code looks like English. Python is popular because it works on many platforms, has many helpful tools, and is great for beginners and experts.\n",
        "2. What is an interpreter in Python?\n",
        "    - An interpreter in Python is a program that reads and runs Python code line by line. It checks the code for errors and executes it directly without needing to convert it into machine code first. This makes Python easy to test, debug, and run quickly while developing programs.\n",
        "3. What are pre-defined keywords in Python?\n",
        "    - Pre-defined keywords in Python are special words that have specific meanings in the language. They are used to write programs and cannot be used as variable names. Examples include if, else, while, for, def, and import. These help control how code runs.\n",
        "4. Can keywords be used as variable names?\n",
        "    - No, keywords cannot be used as variable names in Python. Keywords are special reserved words that have specific meanings in the language, like if, while, for, and def. Using them as variable names will cause an error because Python won’t understand your code properly.\n",
        "5.  What is mutability in Python?\n",
        "    - Mutability in Python means whether a value can be changed after it is created. Mutable objects (like lists or dictionaries) can be changed. Immutable objects (like strings or tuples) cannot be changed. If you try to change an immutable object, Python creates a new one instead.\n",
        "6.  Why are lists mutable, but tuples are immutable?\n",
        "    - Lists are mutable because you can change, add, or remove items after creating them. Tuples are immutable to keep data safe and fixed, which helps prevent unwanted changes.\n",
        "7. What is the difference between “==” and “is” operators in Python?\n",
        "    - In Python, == checks if two values are equal, while is checks if they refer to the same object in memory. So, same value vs. same identity.\n",
        "8. What are logical operators in Python?\n",
        "    - Logical operators in Python are used to combine conditions. They are and, or, and not. They help make decisions in programs by checking if conditions are true or false.\n",
        "9. What is type casting in Python?\n",
        "    - Type casting in Python is converting one data type into another, like converting a string to an integer or a float to an integer, using functions like int(), float(), or str().\n",
        "10.  What is the difference between implicit and explicit type casting?\n",
        "    - Implicit type casting is automatically done by Python when converting a smaller data type to a larger one (e.g., int to float).\n",
        "    Explicit type casting requires the programmer to manually convert types using functions like int() or float().\n",
        "11. What is the purpose of conditional statements in Python?\n",
        "    - Conditional statements in Python allow the program to make decisions based on certain conditions. They help control the flow of execution by running specific code when a condition is true or false.\n",
        "12. How does the elif statement work?\n",
        "    - The elif statement in Python checks another condition if the previous if condition is false. It's used when you have multiple conditions to test, making the code more organized and readable.\n",
        "13. What is the difference between for and while loops?\n",
        "    - A for loop iterates over a sequence (like a list or range) for a set number of times. A while loop continues as long as a condition is true.\n",
        "14. Describe a scenario where a while loop is more suitable than a for loop.\n",
        "    - A while loop is more suitable when you don't know beforehand how many times you'll need to iterate, such as waiting for user input or checking for a condition repeatedly.\n"
      ],
      "metadata": {
        "id": "HVT3JbNJy3my"
      }
    },
    {
      "cell_type": "code",
      "source": [],
      "metadata": {
        "id": "E5BCT-Ge1egL"
      },
      "execution_count": null,
      "outputs": []
    },
    {
      "cell_type": "markdown",
      "source": [
        "# Practical Questions"
      ],
      "metadata": {
        "id": "WkL12uL61sIk"
      }
    },
    {
      "cell_type": "code",
      "source": [],
      "metadata": {
        "id": "qdPz6IVn1to7"
      },
      "execution_count": null,
      "outputs": []
    },
    {
      "cell_type": "markdown",
      "source": [
        "1. Write a Python program to print \"Hello, World!\""
      ],
      "metadata": {
        "id": "alTUVUYj1z6A"
      }
    },
    {
      "cell_type": "code",
      "source": [
        "print(\"Hello World\")"
      ],
      "metadata": {
        "id": "79qzjbaF149f",
        "colab": {
          "base_uri": "https://localhost:8080/"
        },
        "outputId": "83b6a54f-f6fa-4b5f-b4c3-290911ef31bc"
      },
      "execution_count": 1,
      "outputs": [
        {
          "output_type": "stream",
          "name": "stdout",
          "text": [
            "Hello World\n"
          ]
        }
      ]
    },
    {
      "cell_type": "code",
      "source": [],
      "metadata": {
        "id": "Y3o3BVT5573v"
      },
      "execution_count": null,
      "outputs": []
    },
    {
      "cell_type": "markdown",
      "source": [
        "2. Write a Python program that displays your name and age?"
      ],
      "metadata": {
        "id": "pvy1qPFh7Z0H"
      }
    },
    {
      "cell_type": "code",
      "source": [
        "name = \"Paras\"\n",
        "age = 25\n",
        "print(\"My name is\", name)\n",
        "print(\"My age is\", age)"
      ],
      "metadata": {
        "colab": {
          "base_uri": "https://localhost:8080/"
        },
        "id": "tJqfSI4L7cBw",
        "outputId": "8dd6f64e-1025-4118-bf92-6c9dedd2d6fa"
      },
      "execution_count": 3,
      "outputs": [
        {
          "output_type": "stream",
          "name": "stdout",
          "text": [
            "My name is Paras\n",
            "My age is 25\n"
          ]
        }
      ]
    },
    {
      "cell_type": "code",
      "source": [],
      "metadata": {
        "id": "9G8bbDUt7iNj"
      },
      "execution_count": null,
      "outputs": []
    },
    {
      "cell_type": "markdown",
      "source": [
        "3. Write code to print all the pre-defined keywords in Python using the keyword library?"
      ],
      "metadata": {
        "id": "tTBlsVYm7w8D"
      }
    },
    {
      "cell_type": "code",
      "source": [
        "import keyword\n",
        "\n",
        "print(keyword.kwlist)"
      ],
      "metadata": {
        "colab": {
          "base_uri": "https://localhost:8080/"
        },
        "id": "EzHvh-eQ7yeP",
        "outputId": "fafcc5a1-b850-45a6-f8e9-71f72738e4bc"
      },
      "execution_count": 4,
      "outputs": [
        {
          "output_type": "stream",
          "name": "stdout",
          "text": [
            "['False', 'None', 'True', 'and', 'as', 'assert', 'async', 'await', 'break', 'class', 'continue', 'def', 'del', 'elif', 'else', 'except', 'finally', 'for', 'from', 'global', 'if', 'import', 'in', 'is', 'lambda', 'nonlocal', 'not', 'or', 'pass', 'raise', 'return', 'try', 'while', 'with', 'yield']\n"
          ]
        }
      ]
    },
    {
      "cell_type": "code",
      "source": [],
      "metadata": {
        "id": "U1mcTdoP7-Ew"
      },
      "execution_count": null,
      "outputs": []
    },
    {
      "cell_type": "markdown",
      "source": [
        "4. Write a program that checks if a given word is a Python keyword."
      ],
      "metadata": {
        "id": "ctaxRaTz8D1N"
      }
    },
    {
      "cell_type": "code",
      "source": [
        "import keyword\n",
        "\n",
        "word = input(\"for\")\n",
        "if keyword.iskeyword(word):\n",
        "    print(\"It is a Python keyword.\")\n",
        "else:\n",
        "    print(\"It is not a Python keyword.\")"
      ],
      "metadata": {
        "colab": {
          "base_uri": "https://localhost:8080/"
        },
        "id": "6Ob48o8C8Fhn",
        "outputId": "b0b8002d-e79e-4c35-d2e8-72e0a99e5d40"
      },
      "execution_count": 5,
      "outputs": [
        {
          "output_type": "stream",
          "name": "stdout",
          "text": [
            "forIt is a Python keyword\n",
            "It is not a Python keyword.\n"
          ]
        }
      ]
    },
    {
      "cell_type": "code",
      "source": [],
      "metadata": {
        "id": "F-TswnLR8i9V"
      },
      "execution_count": null,
      "outputs": []
    },
    {
      "cell_type": "markdown",
      "source": [
        "5. Create a list and tuple in Python, and demonstrate how attempting to change an element works differently\n",
        "for each."
      ],
      "metadata": {
        "id": "X5RQE0Pd8vhm"
      }
    },
    {
      "cell_type": "code",
      "source": [
        "my_list = [1, 2, 3]\n",
        "my_list[0] = 10\n",
        "print(\"List after change:\", my_list)\n",
        "my_tuple = (1, 2, 3)\n",
        "print(\"Tuple:\", my_tuple)"
      ],
      "metadata": {
        "colab": {
          "base_uri": "https://localhost:8080/"
        },
        "id": "lNQtNDUp8zZO",
        "outputId": "e00d174f-8a9c-4f6d-81c7-3e7f1ff42fd4"
      },
      "execution_count": 6,
      "outputs": [
        {
          "output_type": "stream",
          "name": "stdout",
          "text": [
            "List after change: [10, 2, 3]\n",
            "Tuple: (1, 2, 3)\n"
          ]
        }
      ]
    },
    {
      "cell_type": "code",
      "source": [],
      "metadata": {
        "id": "dmhLlHS79MZv"
      },
      "execution_count": null,
      "outputs": []
    },
    {
      "cell_type": "markdown",
      "source": [
        "6. Write a function to demonstrate the behavior of mutable and immutable arguments."
      ],
      "metadata": {
        "id": "ULyG4_d_9QFF"
      }
    },
    {
      "cell_type": "code",
      "source": [
        "def demo(a, b):\n",
        "  a = a + 1\n",
        "  b.append(4)\n",
        "x = 5\n",
        "y = [1, 2, 3]\n",
        "demo(x, y)\n",
        "print(\"x (int):\", x)\n",
        "print(\"y (list):\", y)"
      ],
      "metadata": {
        "colab": {
          "base_uri": "https://localhost:8080/"
        },
        "id": "wh8svTn59Q_-",
        "outputId": "48ba9205-ac76-490e-93b8-62011b6187a7"
      },
      "execution_count": 7,
      "outputs": [
        {
          "output_type": "stream",
          "name": "stdout",
          "text": [
            "x (int): 5\n",
            "y (list): [1, 2, 3, 4]\n"
          ]
        }
      ]
    },
    {
      "cell_type": "code",
      "source": [],
      "metadata": {
        "id": "m6vG3Olq9v0O"
      },
      "execution_count": null,
      "outputs": []
    },
    {
      "cell_type": "markdown",
      "source": [
        "7. Write a program that performs basic arithmetic operations on two user-input numbers."
      ],
      "metadata": {
        "id": "1qss0X0Q9zth"
      }
    },
    {
      "cell_type": "code",
      "source": [
        "a = int(input(\"Enter first number: \"))\n",
        "b = int(input(\"Enter second number: \"))\n",
        "print(\"Addition:\", a + b)\n",
        "print(\"Subtraction:\", a - b)\n",
        "print(\"Multiplication:\", a * b)\n",
        "print(\"Division:\", a / b)"
      ],
      "metadata": {
        "colab": {
          "base_uri": "https://localhost:8080/"
        },
        "id": "ep8WnZZp90gX",
        "outputId": "e594987f-ef16-41c6-b38b-407a4e8f5d70"
      },
      "execution_count": 9,
      "outputs": [
        {
          "output_type": "stream",
          "name": "stdout",
          "text": [
            "Enter first number: 8\n",
            "Enter second number: 4\n",
            "Addition: 12\n",
            "Subtraction: 4\n",
            "Multiplication: 32\n",
            "Division: 2.0\n"
          ]
        }
      ]
    },
    {
      "cell_type": "code",
      "source": [],
      "metadata": {
        "id": "fnNR25LB-Eck"
      },
      "execution_count": null,
      "outputs": []
    },
    {
      "cell_type": "markdown",
      "source": [
        "8. Write a program to demonstrate the use of logical operators."
      ],
      "metadata": {
        "id": "j_sVs2nj-QBH"
      }
    },
    {
      "cell_type": "code",
      "source": [
        "a = True\n",
        "b = False\n",
        "print(\"a and b =\", a and b)\n",
        "print(\"a or b =\", a or b)\n",
        "print(\"not a =\", not a)"
      ],
      "metadata": {
        "colab": {
          "base_uri": "https://localhost:8080/"
        },
        "id": "X0DHZw1o-Q9V",
        "outputId": "0497f6df-c16d-4266-d335-513c4c739925"
      },
      "execution_count": 10,
      "outputs": [
        {
          "output_type": "stream",
          "name": "stdout",
          "text": [
            "a and b = False\n",
            "a or b = True\n",
            "not a = False\n"
          ]
        }
      ]
    },
    {
      "cell_type": "code",
      "source": [],
      "metadata": {
        "id": "KnOqxc10-cQ5"
      },
      "execution_count": null,
      "outputs": []
    },
    {
      "cell_type": "markdown",
      "source": [
        "9. Write a Python program to convert user input from string to integer, float, and boolean types."
      ],
      "metadata": {
        "id": "dOS3zbmN-mv0"
      }
    },
    {
      "cell_type": "code",
      "source": [
        "user_input = input(\"Enter something: \")"
      ],
      "metadata": {
        "colab": {
          "base_uri": "https://localhost:8080/"
        },
        "id": "gfK_1U7H-nl7",
        "outputId": "481199e7-fd82-44f9-c3cd-c733924230e8"
      },
      "execution_count": 15,
      "outputs": [
        {
          "name": "stdout",
          "output_type": "stream",
          "text": [
            "Enter something: 55\n"
          ]
        }
      ]
    },
    {
      "cell_type": "code",
      "source": [
        "int_value = int(user_input)\n",
        "print(\"Integer:\", int_value)\n",
        "float_value = float(user_input)\n",
        "print(\"Float:\", float_value)\n",
        "bool_value = bool(user_input)\n",
        "print(\"Boolean:\", bool_value)"
      ],
      "metadata": {
        "colab": {
          "base_uri": "https://localhost:8080/"
        },
        "id": "CgoLcjMC-184",
        "outputId": "3fc270dc-b529-4190-db34-7b572aebd4a9"
      },
      "execution_count": 16,
      "outputs": [
        {
          "output_type": "stream",
          "name": "stdout",
          "text": [
            "Integer: 55\n",
            "Float: 55.0\n",
            "Boolean: True\n"
          ]
        }
      ]
    },
    {
      "cell_type": "code",
      "source": [],
      "metadata": {
        "id": "7zOjLe3L-_YL"
      },
      "execution_count": null,
      "outputs": []
    },
    {
      "cell_type": "markdown",
      "source": [
        "10. Write code to demonstrate type casting with list elements."
      ],
      "metadata": {
        "id": "nDwEfpWu_buu"
      }
    },
    {
      "cell_type": "code",
      "source": [
        "str_list = [\"1\", \"2\", \"3\"]\n",
        "int_list = [int(x) for x in str_list]\n",
        "\n",
        "print(\"Original list:\", str_list)\n",
        "print(\"After type casting to int:\", int_list)"
      ],
      "metadata": {
        "colab": {
          "base_uri": "https://localhost:8080/"
        },
        "id": "RUYusIyl_dEV",
        "outputId": "ac90c2f0-b730-47f0-8d3e-8822ef6f2c0b"
      },
      "execution_count": 17,
      "outputs": [
        {
          "output_type": "stream",
          "name": "stdout",
          "text": [
            "Original list: ['1', '2', '3']\n",
            "After type casting to int: [1, 2, 3]\n"
          ]
        }
      ]
    },
    {
      "cell_type": "code",
      "source": [],
      "metadata": {
        "id": "wrde-lmp_rfs"
      },
      "execution_count": null,
      "outputs": []
    },
    {
      "cell_type": "markdown",
      "source": [
        "11. Write a program that checks if a number is positive, negative, or zero."
      ],
      "metadata": {
        "id": "EFEcWqYi_u2q"
      }
    },
    {
      "cell_type": "code",
      "source": [
        "num = float(input(\"Enter a number: \"))"
      ],
      "metadata": {
        "colab": {
          "base_uri": "https://localhost:8080/"
        },
        "id": "GTj6u00r_1A6",
        "outputId": "9a4c1436-1850-4b72-aac6-6008a6476c83"
      },
      "execution_count": 25,
      "outputs": [
        {
          "name": "stdout",
          "output_type": "stream",
          "text": [
            "Enter a number: 4\n"
          ]
        }
      ]
    },
    {
      "cell_type": "code",
      "source": [
        "if num > 0:\n",
        "    print(\"Positive number\")\n",
        "elif num < 0:\n",
        "    print(\"Negative number\")\n",
        "else:\n",
        "    print(\"Zero\")"
      ],
      "metadata": {
        "colab": {
          "base_uri": "https://localhost:8080/"
        },
        "id": "WrvPTfKrAw_H",
        "outputId": "ab2ba851-cf55-4c87-be31-9a53c2c1ab60"
      },
      "execution_count": 26,
      "outputs": [
        {
          "output_type": "stream",
          "name": "stdout",
          "text": [
            "Positive number\n"
          ]
        }
      ]
    },
    {
      "cell_type": "code",
      "source": [],
      "metadata": {
        "id": "IOSjKJO0Ay8y"
      },
      "execution_count": null,
      "outputs": []
    },
    {
      "cell_type": "markdown",
      "source": [
        "12. Write a for loop to print numbers from 1 to 10."
      ],
      "metadata": {
        "id": "FgRuhUNkA2Jd"
      }
    },
    {
      "cell_type": "code",
      "source": [
        "for i in range(1, 11):\n",
        "    print(i)"
      ],
      "metadata": {
        "colab": {
          "base_uri": "https://localhost:8080/"
        },
        "id": "u21Z2EvKA2-h",
        "outputId": "5a9e37e6-b5ba-4f40-bbf9-70f8774c9a68"
      },
      "execution_count": 27,
      "outputs": [
        {
          "output_type": "stream",
          "name": "stdout",
          "text": [
            "1\n",
            "2\n",
            "3\n",
            "4\n",
            "5\n",
            "6\n",
            "7\n",
            "8\n",
            "9\n",
            "10\n"
          ]
        }
      ]
    },
    {
      "cell_type": "code",
      "source": [],
      "metadata": {
        "id": "mE9-N7UbA-ep"
      },
      "execution_count": null,
      "outputs": []
    },
    {
      "cell_type": "markdown",
      "source": [
        "13. Write a Python program to find the sum of all even numbers between 1 and 50."
      ],
      "metadata": {
        "id": "cnBxG0SsBBP6"
      }
    },
    {
      "cell_type": "code",
      "source": [
        "total_sum = 0\n",
        "for num in range(1, 51):\n",
        "    if num % 2 == 0:\n",
        "        total_sum += num\n",
        "print(\"Sum of even numbers between 1 and 50:\", total_sum)"
      ],
      "metadata": {
        "colab": {
          "base_uri": "https://localhost:8080/"
        },
        "id": "87YQOLK3BCa1",
        "outputId": "d2396152-4ede-4125-c680-4ee6237f5b9a"
      },
      "execution_count": 29,
      "outputs": [
        {
          "output_type": "stream",
          "name": "stdout",
          "text": [
            "Sum of even numbers between 1 and 50: 650\n"
          ]
        }
      ]
    },
    {
      "cell_type": "code",
      "source": [],
      "metadata": {
        "id": "QWNmunYzBP0Q"
      },
      "execution_count": null,
      "outputs": []
    },
    {
      "cell_type": "markdown",
      "source": [
        "14. Write a program to reverse a string using a while loop."
      ],
      "metadata": {
        "id": "mCCDVqTkBzUE"
      }
    },
    {
      "cell_type": "code",
      "source": [
        "text = \"hello\"\n",
        "reversed_text = \"\"\n",
        "i = len(text) - 1\n",
        "while i >= 0:\n",
        "  reversed_text += text[i]\n",
        "  i -= 1\n",
        "print(reversed_text)"
      ],
      "metadata": {
        "colab": {
          "base_uri": "https://localhost:8080/"
        },
        "id": "BTC9iRtDB0AA",
        "outputId": "25b63eae-48f6-467e-fa5c-d1a5e6f24df1"
      },
      "execution_count": 31,
      "outputs": [
        {
          "output_type": "stream",
          "name": "stdout",
          "text": [
            "olleh\n"
          ]
        }
      ]
    },
    {
      "cell_type": "code",
      "source": [],
      "metadata": {
        "id": "6eoI41-RCK6R"
      },
      "execution_count": null,
      "outputs": []
    },
    {
      "cell_type": "markdown",
      "source": [
        "15. Write a Python program to calculate the factorial of a number provided by the user using a while loop."
      ],
      "metadata": {
        "id": "JNtV87WfCbZn"
      }
    },
    {
      "cell_type": "code",
      "source": [
        "num = int(input(\"Enter a number: \"))"
      ],
      "metadata": {
        "colab": {
          "base_uri": "https://localhost:8080/"
        },
        "id": "cOJyJsZnCcDI",
        "outputId": "d4aa5843-8a33-4a0d-d8f6-2eaad474aeec"
      },
      "execution_count": 32,
      "outputs": [
        {
          "name": "stdout",
          "output_type": "stream",
          "text": [
            "Enter a number: 8\n"
          ]
        }
      ]
    },
    {
      "cell_type": "code",
      "source": [
        "factorial = 1\n",
        "while num > 0:\n",
        "    factorial *= num\n",
        "    num -= 1\n",
        "print(\"115:\", factorial)"
      ],
      "metadata": {
        "colab": {
          "base_uri": "https://localhost:8080/"
        },
        "id": "drqNz9-0CnJT",
        "outputId": "d23806b9-7ba0-4c63-819c-cc7c38264c82"
      },
      "execution_count": 33,
      "outputs": [
        {
          "output_type": "stream",
          "name": "stdout",
          "text": [
            "115: 40320\n"
          ]
        }
      ]
    },
    {
      "cell_type": "code",
      "source": [],
      "metadata": {
        "id": "dOvMK9z2C4FB"
      },
      "execution_count": null,
      "outputs": []
    }
  ]
}